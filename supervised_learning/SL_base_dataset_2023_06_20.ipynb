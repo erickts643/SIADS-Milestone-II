{
 "cells": [
  {
   "cell_type": "markdown",
   "id": "ed788232",
   "metadata": {},
   "source": [
    "#### This script gathers all raw files (including new files 2000 - 2009) gathered by Yang into one aggregate file.\n",
    "#### The resulting DF will be the base-dataset used for SL.  \n",
    "#### _Note: other columns will be added to this result DF in order to create an enhanced SL dataset_\n",
    "#### _date: 20230621_\n",
    "\n",
    "\n",
    "- Columns to keep from each raw file are: ['Date','HomeTeam','AwayTeam','FTHG','FTAG','FTR','HTHG','HTAG','HTR',\n",
    "'HS','AS','HST','AST','HF','AF','HC','AC','HY','AY','HR','AR']\n",
    "\n",
    "- New column added: season (type int 1-22)\n"
   ]
  },
  {
   "cell_type": "code",
   "execution_count": 11,
   "id": "376f4484",
   "metadata": {},
   "outputs": [],
   "source": [
    "import pandas as pd\n",
    "import numpy as np\n",
    "import os\n",
    "\n",
    "desired_width = 650\n",
    "pd.set_option('display.width', desired_width)\n",
    "np.set_printoptions(linewidth=desired_width)\n",
    "pd.set_option('display.max_columns', 22)"
   ]
  },
  {
   "cell_type": "code",
   "execution_count": 12,
   "id": "c549ddd7",
   "metadata": {},
   "outputs": [],
   "source": [
    "sel_cols = ['Date','HomeTeam','AwayTeam','FTHG','FTAG','FTR','HTHG','HTAG','HTR',\n",
    "'HS','AS','HST','AST','HF','AF','HC','AC','HY','AY','HR','AR']"
   ]
  },
  {
   "cell_type": "code",
   "execution_count": 13,
   "id": "668204eb",
   "metadata": {},
   "outputs": [
    {
     "data": {
      "text/plain": [
       "21"
      ]
     },
     "execution_count": 13,
     "metadata": {},
     "output_type": "execute_result"
    }
   ],
   "source": [
    "len(sel_cols)"
   ]
  },
  {
   "cell_type": "code",
   "execution_count": 14,
   "id": "1edfc6df",
   "metadata": {
    "scrolled": false
   },
   "outputs": [
    {
     "data": {
      "text/plain": [
       "['2000-2001.csv',\n",
       " '2001-2002.csv',\n",
       " '2002-2003.csv',\n",
       " '2003-2004.csv',\n",
       " '2004-2005.csv',\n",
       " '2005-2006.csv',\n",
       " '2006-2007.csv',\n",
       " '2007-2008.csv',\n",
       " '2008-2009.csv',\n",
       " '2009-2010.csv',\n",
       " '2010-2011.csv',\n",
       " '2011-2012.csv',\n",
       " '2012-2013.csv',\n",
       " '2013-2014.csv',\n",
       " '2014-2015.csv',\n",
       " '2015-2016.csv',\n",
       " '2016-2017.csv',\n",
       " '2017-2018.csv',\n",
       " '2018-2019.csv',\n",
       " '2019-2020.csv',\n",
       " '2020-2021.csv',\n",
       " '2021-2022.csv']"
      ]
     },
     "execution_count": 14,
     "metadata": {},
     "output_type": "execute_result"
    }
   ],
   "source": [
    "# final_path = \"C:\\\\Users\\\\Erick\\\\PycharmProjects\\\\pythonProject1\\\\inputs\\\\\"\n",
    "raw_path = \"INPUTS/raw_files/\"\n",
    "raw_files_list = os.listdir(raw_path)\n",
    "raw_files_list"
   ]
  },
  {
   "cell_type": "code",
   "execution_count": 15,
   "id": "01de6cc0",
   "metadata": {},
   "outputs": [],
   "source": [
    "def modify_date_col(date_column):\n",
    "    # changes the format of the dates from dd/mm/yy to YYYY/MM/DD\n",
    "    new_dates_column = []\n",
    "    for date_val in date_column:\n",
    "        split_date_vals = date_val.split(\"/\")\n",
    "        new_dates_column.append(split_date_vals[1] + \"/\" + split_date_vals[0] + \"/\" + split_date_vals[-1])\n",
    "    \n",
    "    new_dates_column = pd.to_datetime(pd.Series(new_dates_column))\n",
    "    new_dates_column = new_dates_column.dt.date # drop the timestamp in the date value.  Only keep YYYY/MM/DD\n",
    "    \n",
    "    return new_dates_column"
   ]
  },
  {
   "cell_type": "code",
   "execution_count": 16,
   "id": "672bb731",
   "metadata": {},
   "outputs": [
    {
     "name": "stdout",
     "output_type": "stream",
     "text": [
      "(8020, 22)\n"
     ]
    },
    {
     "data": {
      "text/html": [
       "<div>\n",
       "<style scoped>\n",
       "    .dataframe tbody tr th:only-of-type {\n",
       "        vertical-align: middle;\n",
       "    }\n",
       "\n",
       "    .dataframe tbody tr th {\n",
       "        vertical-align: top;\n",
       "    }\n",
       "\n",
       "    .dataframe thead th {\n",
       "        text-align: right;\n",
       "    }\n",
       "</style>\n",
       "<table border=\"1\" class=\"dataframe\">\n",
       "  <thead>\n",
       "    <tr style=\"text-align: right;\">\n",
       "      <th></th>\n",
       "      <th>season</th>\n",
       "      <th>Date</th>\n",
       "      <th>HomeTeam</th>\n",
       "      <th>AwayTeam</th>\n",
       "      <th>FTHG</th>\n",
       "      <th>FTAG</th>\n",
       "      <th>FTR</th>\n",
       "      <th>HTHG</th>\n",
       "      <th>HTAG</th>\n",
       "      <th>HTR</th>\n",
       "      <th>HS</th>\n",
       "      <th>AS</th>\n",
       "      <th>HST</th>\n",
       "      <th>AST</th>\n",
       "      <th>HF</th>\n",
       "      <th>AF</th>\n",
       "      <th>HC</th>\n",
       "      <th>AC</th>\n",
       "      <th>HY</th>\n",
       "      <th>AY</th>\n",
       "      <th>HR</th>\n",
       "      <th>AR</th>\n",
       "    </tr>\n",
       "  </thead>\n",
       "  <tbody>\n",
       "    <tr>\n",
       "      <th>2114</th>\n",
       "      <td>6</td>\n",
       "      <td>2006-01-21</td>\n",
       "      <td>Birmingham</td>\n",
       "      <td>Portsmouth</td>\n",
       "      <td>5</td>\n",
       "      <td>0</td>\n",
       "      <td>H</td>\n",
       "      <td>2</td>\n",
       "      <td>0</td>\n",
       "      <td>H</td>\n",
       "      <td>9</td>\n",
       "      <td>10</td>\n",
       "      <td>6</td>\n",
       "      <td>4</td>\n",
       "      <td>11</td>\n",
       "      <td>23</td>\n",
       "      <td>7</td>\n",
       "      <td>2</td>\n",
       "      <td>1</td>\n",
       "      <td>1</td>\n",
       "      <td>0</td>\n",
       "      <td>0</td>\n",
       "    </tr>\n",
       "    <tr>\n",
       "      <th>6744</th>\n",
       "      <td>18</td>\n",
       "      <td>2018-03-03</td>\n",
       "      <td>Swansea</td>\n",
       "      <td>West Ham</td>\n",
       "      <td>4</td>\n",
       "      <td>1</td>\n",
       "      <td>H</td>\n",
       "      <td>2</td>\n",
       "      <td>0</td>\n",
       "      <td>H</td>\n",
       "      <td>9</td>\n",
       "      <td>7</td>\n",
       "      <td>8</td>\n",
       "      <td>2</td>\n",
       "      <td>9</td>\n",
       "      <td>14</td>\n",
       "      <td>4</td>\n",
       "      <td>5</td>\n",
       "      <td>0</td>\n",
       "      <td>3</td>\n",
       "      <td>0</td>\n",
       "      <td>0</td>\n",
       "    </tr>\n",
       "    <tr>\n",
       "      <th>556</th>\n",
       "      <td>2</td>\n",
       "      <td>2001-12-23</td>\n",
       "      <td>Chelsea</td>\n",
       "      <td>Bolton</td>\n",
       "      <td>5</td>\n",
       "      <td>1</td>\n",
       "      <td>H</td>\n",
       "      <td>2</td>\n",
       "      <td>1</td>\n",
       "      <td>H</td>\n",
       "      <td>16</td>\n",
       "      <td>10</td>\n",
       "      <td>5</td>\n",
       "      <td>4</td>\n",
       "      <td>7</td>\n",
       "      <td>21</td>\n",
       "      <td>4</td>\n",
       "      <td>4</td>\n",
       "      <td>2</td>\n",
       "      <td>2</td>\n",
       "      <td>0</td>\n",
       "      <td>0</td>\n",
       "    </tr>\n",
       "    <tr>\n",
       "      <th>7290</th>\n",
       "      <td>21</td>\n",
       "      <td>2020-10-03</td>\n",
       "      <td>Leeds</td>\n",
       "      <td>Man City</td>\n",
       "      <td>1</td>\n",
       "      <td>1</td>\n",
       "      <td>D</td>\n",
       "      <td>0</td>\n",
       "      <td>1</td>\n",
       "      <td>A</td>\n",
       "      <td>12</td>\n",
       "      <td>23</td>\n",
       "      <td>7</td>\n",
       "      <td>2</td>\n",
       "      <td>11</td>\n",
       "      <td>12</td>\n",
       "      <td>7</td>\n",
       "      <td>10</td>\n",
       "      <td>2</td>\n",
       "      <td>1</td>\n",
       "      <td>0</td>\n",
       "      <td>0</td>\n",
       "    </tr>\n",
       "    <tr>\n",
       "      <th>1289</th>\n",
       "      <td>4</td>\n",
       "      <td>2003-12-07</td>\n",
       "      <td>Southampton</td>\n",
       "      <td>Charlton</td>\n",
       "      <td>3</td>\n",
       "      <td>2</td>\n",
       "      <td>H</td>\n",
       "      <td>2</td>\n",
       "      <td>0</td>\n",
       "      <td>H</td>\n",
       "      <td>18</td>\n",
       "      <td>20</td>\n",
       "      <td>14</td>\n",
       "      <td>14</td>\n",
       "      <td>12</td>\n",
       "      <td>12</td>\n",
       "      <td>8</td>\n",
       "      <td>9</td>\n",
       "      <td>0</td>\n",
       "      <td>0</td>\n",
       "      <td>0</td>\n",
       "      <td>0</td>\n",
       "    </tr>\n",
       "  </tbody>\n",
       "</table>\n",
       "</div>"
      ],
      "text/plain": [
       "      season        Date     HomeTeam    AwayTeam  FTHG  FTAG FTR  HTHG  HTAG HTR  HS  AS  HST  AST  HF  AF  HC  AC  HY  AY  HR  AR\n",
       "2114       6  2006-01-21   Birmingham  Portsmouth     5     0   H     2     0   H   9  10    6    4  11  23   7   2   1   1   0   0\n",
       "6744      18  2018-03-03      Swansea    West Ham     4     1   H     2     0   H   9   7    8    2   9  14   4   5   0   3   0   0\n",
       "556        2  2001-12-23      Chelsea      Bolton     5     1   H     2     1   H  16  10    5    4   7  21   4   4   2   2   0   0\n",
       "7290      21  2020-10-03        Leeds    Man City     1     1   D     0     1   A  12  23    7    2  11  12   7  10   2   1   0   0\n",
       "1289       4  2003-12-07  Southampton    Charlton     3     2   H     2     0   H  18  20   14   14  12  12   8   9   0   0   0   0"
      ]
     },
     "execution_count": 16,
     "metadata": {},
     "output_type": "execute_result"
    }
   ],
   "source": [
    "frames = []\n",
    "for i in range(len(raw_files_list)): \n",
    "    df1 = pd.read_csv(raw_path + raw_files_list[i])\n",
    "    df1 = df1[sel_cols]\n",
    "    df1.Date = modify_date_col(df1.Date)\n",
    "    df1.insert(loc=0, column='season', value=i+1)\n",
    "    frames.append(df1)\n",
    "    \n",
    "result = pd.concat(frames, ignore_index=True)\n",
    "print(result.shape)\n",
    "result.sample(5)"
   ]
  },
  {
   "cell_type": "code",
   "execution_count": 20,
   "id": "d19e2613",
   "metadata": {},
   "outputs": [],
   "source": [
    "result.to_csv('INPUTS/sl_base_dataset_20230621.csv', index=False)"
   ]
  },
  {
   "cell_type": "code",
   "execution_count": 9,
   "id": "c91e7e1b",
   "metadata": {},
   "outputs": [],
   "source": [
    "# with pd.ExcelWriter('INPUTS/erick_june21.xlsx') as writer:  \n",
    "#     result.to_excel(writer, sheet_name='all_seasons', index=False)"
   ]
  }
 ],
 "metadata": {
  "kernelspec": {
   "display_name": "Python 3 (ipykernel)",
   "language": "python",
   "name": "python3"
  },
  "language_info": {
   "codemirror_mode": {
    "name": "ipython",
    "version": 3
   },
   "file_extension": ".py",
   "mimetype": "text/x-python",
   "name": "python",
   "nbconvert_exporter": "python",
   "pygments_lexer": "ipython3",
   "version": "3.10.8"
  }
 },
 "nbformat": 4,
 "nbformat_minor": 5
}
